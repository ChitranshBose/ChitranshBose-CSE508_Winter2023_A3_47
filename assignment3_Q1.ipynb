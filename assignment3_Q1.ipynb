{
  "nbformat": 4,
  "nbformat_minor": 0,
  "metadata": {
    "colab": {
      "provenance": []
    },
    "kernelspec": {
      "name": "python3",
      "display_name": "Python 3"
    },
    "language_info": {
      "name": "python"
    }
  },
  "cells": [
    {
      "cell_type": "code",
      "execution_count": null,
      "metadata": {
        "id": "9Qm-8QK2Og4d"
      },
      "outputs": [],
      "source": [
        " "
      ]
    },
    {
      "cell_type": "code",
      "source": [
        "import urllib.request\n",
        "import os\n",
        "\n",
        "import pandas as pd\n",
        "import numpy as np\n",
        "\n",
        "if not os.path.exists(\"wiki-Vote.txt\"):\n",
        "    urllib.request.urlretrieve(\"https://snap.stanford.edu/data/wiki-Vote.txt.gz\", \"wiki-Vote.txt.gz\")\n",
        "    os.system(\"gzip -d wiki-Vote.txt.gz\")\n",
        "\n",
        "df = pd.read_csv(\"wiki-Vote.txt\", delimiter=\"\\t\", comment=\"#\", header=None, names=[\"start\", \"end\"])\n",
        "\n",
        "numnodes = max(df[\"start\"].max(), df[\"end\"].max()) + 1\n",
        "\n",
        " \n"
      ],
      "metadata": {
        "id": "3L_G4ZnpDKhS"
      },
      "execution_count": 1,
      "outputs": []
    },
    {
      "cell_type": "code",
      "source": [
        "A = np.zeros((numnodes, numnodes))\n",
        "for row in df.itertuples(index=False):\n",
        "    start_node = row[0]\n",
        "    end_node = row[1]\n",
        "    A[start_node][end_node] = 1\n"
      ],
      "metadata": {
        "id": "FRBKggzY65H7"
      },
      "execution_count": 2,
      "outputs": []
    },
    {
      "cell_type": "code",
      "source": [
        "A"
      ],
      "metadata": {
        "colab": {
          "base_uri": "https://localhost:8080/"
        },
        "id": "Ik-GktEH0vcx",
        "outputId": "25af3c9a-1347-4519-96f1-f46eda350ed8"
      },
      "execution_count": 3,
      "outputs": [
        {
          "output_type": "execute_result",
          "data": {
            "text/plain": [
              "array([[0., 0., 0., ..., 0., 0., 0.],\n",
              "       [0., 0., 0., ..., 0., 0., 0.],\n",
              "       [0., 0., 0., ..., 0., 0., 0.],\n",
              "       ...,\n",
              "       [0., 0., 0., ..., 0., 0., 0.],\n",
              "       [0., 0., 0., ..., 0., 0., 0.],\n",
              "       [0., 0., 0., ..., 0., 0., 0.]])"
            ]
          },
          "metadata": {},
          "execution_count": 3
        }
      ]
    },
    {
      "cell_type": "code",
      "source": [
        "df.head()\n",
        "data=df"
      ],
      "metadata": {
        "id": "AvyqC5QGPaPT"
      },
      "execution_count": 4,
      "outputs": []
    },
    {
      "cell_type": "code",
      "source": [
        "df.head()"
      ],
      "metadata": {
        "colab": {
          "base_uri": "https://localhost:8080/",
          "height": 206
        },
        "id": "iH_glOuvETvZ",
        "outputId": "c712b708-ad1d-41fd-bdc6-2f24187dc7fe"
      },
      "execution_count": 5,
      "outputs": [
        {
          "output_type": "execute_result",
          "data": {
            "text/plain": [
              "   start   end\n",
              "0     30  1412\n",
              "1     30  3352\n",
              "2     30  5254\n",
              "3     30  5543\n",
              "4     30  7478"
            ],
            "text/html": [
              "\n",
              "  <div id=\"df-b833d17b-1047-40fd-90a1-a545c43c7434\">\n",
              "    <div class=\"colab-df-container\">\n",
              "      <div>\n",
              "<style scoped>\n",
              "    .dataframe tbody tr th:only-of-type {\n",
              "        vertical-align: middle;\n",
              "    }\n",
              "\n",
              "    .dataframe tbody tr th {\n",
              "        vertical-align: top;\n",
              "    }\n",
              "\n",
              "    .dataframe thead th {\n",
              "        text-align: right;\n",
              "    }\n",
              "</style>\n",
              "<table border=\"1\" class=\"dataframe\">\n",
              "  <thead>\n",
              "    <tr style=\"text-align: right;\">\n",
              "      <th></th>\n",
              "      <th>start</th>\n",
              "      <th>end</th>\n",
              "    </tr>\n",
              "  </thead>\n",
              "  <tbody>\n",
              "    <tr>\n",
              "      <th>0</th>\n",
              "      <td>30</td>\n",
              "      <td>1412</td>\n",
              "    </tr>\n",
              "    <tr>\n",
              "      <th>1</th>\n",
              "      <td>30</td>\n",
              "      <td>3352</td>\n",
              "    </tr>\n",
              "    <tr>\n",
              "      <th>2</th>\n",
              "      <td>30</td>\n",
              "      <td>5254</td>\n",
              "    </tr>\n",
              "    <tr>\n",
              "      <th>3</th>\n",
              "      <td>30</td>\n",
              "      <td>5543</td>\n",
              "    </tr>\n",
              "    <tr>\n",
              "      <th>4</th>\n",
              "      <td>30</td>\n",
              "      <td>7478</td>\n",
              "    </tr>\n",
              "  </tbody>\n",
              "</table>\n",
              "</div>\n",
              "      <button class=\"colab-df-convert\" onclick=\"convertToInteractive('df-b833d17b-1047-40fd-90a1-a545c43c7434')\"\n",
              "              title=\"Convert this dataframe to an interactive table.\"\n",
              "              style=\"display:none;\">\n",
              "        \n",
              "  <svg xmlns=\"http://www.w3.org/2000/svg\" height=\"24px\"viewBox=\"0 0 24 24\"\n",
              "       width=\"24px\">\n",
              "    <path d=\"M0 0h24v24H0V0z\" fill=\"none\"/>\n",
              "    <path d=\"M18.56 5.44l.94 2.06.94-2.06 2.06-.94-2.06-.94-.94-2.06-.94 2.06-2.06.94zm-11 1L8.5 8.5l.94-2.06 2.06-.94-2.06-.94L8.5 2.5l-.94 2.06-2.06.94zm10 10l.94 2.06.94-2.06 2.06-.94-2.06-.94-.94-2.06-.94 2.06-2.06.94z\"/><path d=\"M17.41 7.96l-1.37-1.37c-.4-.4-.92-.59-1.43-.59-.52 0-1.04.2-1.43.59L10.3 9.45l-7.72 7.72c-.78.78-.78 2.05 0 2.83L4 21.41c.39.39.9.59 1.41.59.51 0 1.02-.2 1.41-.59l7.78-7.78 2.81-2.81c.8-.78.8-2.07 0-2.86zM5.41 20L4 18.59l7.72-7.72 1.47 1.35L5.41 20z\"/>\n",
              "  </svg>\n",
              "      </button>\n",
              "      \n",
              "  <style>\n",
              "    .colab-df-container {\n",
              "      display:flex;\n",
              "      flex-wrap:wrap;\n",
              "      gap: 12px;\n",
              "    }\n",
              "\n",
              "    .colab-df-convert {\n",
              "      background-color: #E8F0FE;\n",
              "      border: none;\n",
              "      border-radius: 50%;\n",
              "      cursor: pointer;\n",
              "      display: none;\n",
              "      fill: #1967D2;\n",
              "      height: 32px;\n",
              "      padding: 0 0 0 0;\n",
              "      width: 32px;\n",
              "    }\n",
              "\n",
              "    .colab-df-convert:hover {\n",
              "      background-color: #E2EBFA;\n",
              "      box-shadow: 0px 1px 2px rgba(60, 64, 67, 0.3), 0px 1px 3px 1px rgba(60, 64, 67, 0.15);\n",
              "      fill: #174EA6;\n",
              "    }\n",
              "\n",
              "    [theme=dark] .colab-df-convert {\n",
              "      background-color: #3B4455;\n",
              "      fill: #D2E3FC;\n",
              "    }\n",
              "\n",
              "    [theme=dark] .colab-df-convert:hover {\n",
              "      background-color: #434B5C;\n",
              "      box-shadow: 0px 1px 3px 1px rgba(0, 0, 0, 0.15);\n",
              "      filter: drop-shadow(0px 1px 2px rgba(0, 0, 0, 0.3));\n",
              "      fill: #FFFFFF;\n",
              "    }\n",
              "  </style>\n",
              "\n",
              "      <script>\n",
              "        const buttonEl =\n",
              "          document.querySelector('#df-b833d17b-1047-40fd-90a1-a545c43c7434 button.colab-df-convert');\n",
              "        buttonEl.style.display =\n",
              "          google.colab.kernel.accessAllowed ? 'block' : 'none';\n",
              "\n",
              "        async function convertToInteractive(key) {\n",
              "          const element = document.querySelector('#df-b833d17b-1047-40fd-90a1-a545c43c7434');\n",
              "          const dataTable =\n",
              "            await google.colab.kernel.invokeFunction('convertToInteractive',\n",
              "                                                     [key], {});\n",
              "          if (!dataTable) return;\n",
              "\n",
              "          const docLinkHtml = 'Like what you see? Visit the ' +\n",
              "            '<a target=\"_blank\" href=https://colab.research.google.com/notebooks/data_table.ipynb>data table notebook</a>'\n",
              "            + ' to learn more about interactive tables.';\n",
              "          element.innerHTML = '';\n",
              "          dataTable['output_type'] = 'display_data';\n",
              "          await google.colab.output.renderOutput(dataTable, element);\n",
              "          const docLink = document.createElement('div');\n",
              "          docLink.innerHTML = docLinkHtml;\n",
              "          element.appendChild(docLink);\n",
              "        }\n",
              "      </script>\n",
              "    </div>\n",
              "  </div>\n",
              "  "
            ]
          },
          "metadata": {},
          "execution_count": 5
        }
      ]
    },
    {
      "cell_type": "code",
      "source": [
        "import urllib.request\n",
        "import os\n",
        "import numpy as np\n",
        " \n",
        "g_edges = np.loadtxt(\"wiki-Vote.txt\", comments=\"#\", delimiter=\"\\t\", dtype=int)\n",
        "numnodes = 0\n",
        "num_e = 0\n",
        "for edge in  g_edges:\n",
        "    num_e += 1\n",
        "    if edge[0] > numnodes:\n",
        "        numnodes = edge[0]\n",
        "    if edge[1] > numnodes:\n",
        "        numnodes = edge[1]\n",
        "numnodes += 1\n",
        "\n",
        " \n",
        " \n",
        "inside_deg = [0] * numnodes\n",
        "out_deg= [0] * numnodes\n",
        " \n",
        "for edge in  g_edges:\n",
        "    out_node = edge[0]\n",
        "    in_node = edge[1]\n",
        "    out_deg[out_node] += 1\n",
        "    inside_deg[in_node] += 1\n",
        "\n",
        "\n",
        " \n",
        "s_in_deg = 0\n",
        "s_out_deg = 0\n",
        "for i in range(numnodes):\n",
        "    s_in_deg += inside_deg[i]\n",
        "    s_out_deg += out_deg[i]\n",
        "    \n",
        "average_in_degree = s_in_deg / numnodes\n",
        "average_out_degree = s_out_deg / numnodes\n",
        "\n",
        " \n",
        "maximum_inside_degree = 0\n",
        "mx_i_deg = 0\n",
        "maximum_outside_degree = 0\n",
        "mx_o_deg = 0\n",
        "\n",
        "for i in range(numnodes):\n",
        "    in_degree_index = 0\n",
        "    out_degree_i = 0\n",
        "    for j in range(numnodes):\n",
        "        in_degree_index += A[j][i]\n",
        "        out_degree_i += A[i][j]\n",
        "    if in_degree_index > mx_i_deg:\n",
        "        maximum_inside_degree = i\n",
        "        mx_i_deg = in_degree_index\n",
        "    if out_degree_i > mx_o_deg:\n",
        "        maximum_outside_degree = i\n",
        "        mx_o_deg = out_degree_i\n",
        "\n",
        "nw_density = num_e / (numnodes * (numnodes - 1))\n",
        "\n",
        " \n"
      ],
      "metadata": {
        "id": "SK459DsrQqCM"
      },
      "execution_count": 6,
      "outputs": []
    },
    {
      "cell_type": "code",
      "source": [
        " "
      ],
      "metadata": {
        "id": "_O8e7LJn35A3"
      },
      "execution_count": 6,
      "outputs": []
    },
    {
      "cell_type": "code",
      "source": [
        "\n",
        "print(\"NUMBER OF NODES\", numnodes)\n",
        "print(\"NUMBER OF EDGES:\", num_e)\n",
        "print(\"AVERAGE IN DEGREE:\", average_in_degree)\n",
        "print(\"AVERAGE OUT DEGREE:\", average_out_degree)\n",
        "print(\"NODE WITH MAX IN DEGREE:\", maximum_inside_degree)\n",
        "print(\"NODE WITH MAX OUT DEGREE:\", maximum_outside_degree)\n",
        "print(\"NETWORK DENSITY:\", nw_density)\n",
        " "
      ],
      "metadata": {
        "colab": {
          "base_uri": "https://localhost:8080/"
        },
        "id": "gCloPcTbmubn",
        "outputId": "4f31c83c-30b3-4a8a-b2a7-8f8beb2e9f80"
      },
      "execution_count": 7,
      "outputs": [
        {
          "output_type": "stream",
          "name": "stdout",
          "text": [
            "NUMBER OF NODES 8298\n",
            "NUMBER OF EDGES: 103689\n",
            "AVERAGE IN DEGREE: 12.495661605206074\n",
            "AVERAGE OUT DEGREE: 12.495661605206074\n",
            "NODE WITH MAX IN DEGREE: 4037\n",
            "NODE WITH MAX OUT DEGREE: 2565\n",
            "NETWORK DENSITY: 0.0015060457521039019\n"
          ]
        }
      ]
    },
    {
      "cell_type": "code",
      "source": [
        "import matplotlib.pyplot as plt\n",
        "\n",
        " \n",
        "plt.hist(inside_deg, bins=range(2, np.max(inside_deg)+ 3))\n",
        "plt.title(\"In-degree Distribution\")\n",
        "plt.xlabel(\"In-degree \")\n",
        "plt.ylabel(\"Frequency distribution \")\n",
        "plt.show()\n",
        "\n",
        "\n",
        " \n"
      ],
      "metadata": {
        "colab": {
          "base_uri": "https://localhost:8080/",
          "height": 472
        },
        "id": "wmbMKoltadU5",
        "outputId": "9d5ed5f3-c1f2-4143-dbe6-49f54bff8bfd"
      },
      "execution_count": 8,
      "outputs": [
        {
          "output_type": "display_data",
          "data": {
            "text/plain": [
              "<Figure size 640x480 with 1 Axes>"
            ],
            "image/png": "[encoded data removed]"
          },
          "metadata": {}
        }
      ]
    },
    {
      "cell_type": "code",
      "source": [
        "\n",
        "plt.hist(out_deg, bins=range(2, np.max(out_deg) + 3))\n",
        "plt.title(\"Out-degree Distribution\")\n",
        "plt.xlabel(\"Out-degree\")\n",
        "plt.ylabel(\"Frequency distribution\")\n",
        "plt.show()"
      ],
      "metadata": {
        "colab": {
          "base_uri": "https://localhost:8080/",
          "height": 472
        },
        "id": "ilDkqaMImMXN",
        "outputId": "eeb9f0f5-f4b2-437f-fa02-33303940ad36"
      },
      "execution_count": 9,
      "outputs": [
        {
          "output_type": "display_data",
          "data": {
            "text/plain": [
              "<Figure size 640x480 with 1 Axes>"
            ],
            "image/png": "[encoded data removed]"
          },
          "metadata": {}
        }
      ]
    },
    {
      "cell_type": "code",
      "source": [
        " "
      ],
      "metadata": {
        "id": "aHy9bUvcbqFk"
      },
      "execution_count": null,
      "outputs": []
    },
    {
      "cell_type": "code",
      "source": [
        "cls_coeff = []\n",
        "for node in range(numnodes):\n",
        "    neighbors = np.where(A[node])[0]\n",
        "    k = len(neighbors)\n",
        "    if k < 2:\n",
        "        cls_coeff.append(0)\n",
        "    else:\n",
        "        g_edges = 0\n",
        "        for i in range(k):\n",
        "            for j in range(i+1, k):\n",
        "                if A[neighbors[i], neighbors[j]] == 1:\n",
        "                    g_edges += 1\n",
        "        clustering_coeff = 2 * g_edges / (k * (k-1))\n",
        "        cls_coeff.append(clustering_coeff)\n",
        "        print(\"Clustering coefficient for node\", node, \":\", clustering_coeff)\n",
        "\n"
      ],
      "metadata": {
        "id": "QooSYXPelnSh"
      },
      "execution_count": null,
      "outputs": []
    },
    {
      "cell_type": "code",
      "source": [
        "node_name = list(range(numnodes))\n",
        "\n"
      ],
      "metadata": {
        "id": "QypYP4Aq1XO4"
      },
      "execution_count": 21,
      "outputs": []
    },
    {
      "cell_type": "code",
      "source": [
        "plt.plot(node_name,cls_coeff)\n",
        "plt.xlabel(\"Number of Nodes\")\n",
        "plt.ylabel(\"Clustering Coefficient\")\n",
        "plt.title(\"Clustering Coefficient Distribution\")\n",
        "plt.show()"
      ],
      "metadata": {
        "colab": {
          "base_uri": "https://localhost:8080/",
          "height": 472
        },
        "id": "UOcPqDGd2ewj",
        "outputId": "26d57c0f-deb9-4ad4-bd77-b8bfb9e90ac5"
      },
      "execution_count": 24,
      "outputs": [
        {
          "output_type": "display_data",
          "data": {
            "text/plain": [
              "<Figure size 640x480 with 1 Axes>"
            ],
            "image/png": "[encoded data removed]"
          },
          "metadata": {}
        }
      ]
    },
    {
      "cell_type": "code",
      "source": [],
      "metadata": {
        "id": "I4dk6c25uguL"
      },
      "execution_count": null,
      "outputs": []
    }
  ]
}